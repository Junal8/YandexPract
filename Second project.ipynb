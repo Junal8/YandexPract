{
 "cells": [
  {
   "cell_type": "markdown",
   "metadata": {},
   "source": [
    "## Исследование надёжности заёмщиков\n",
    "\n",
    "Заказчик — кредитный отдел банка. Нужно разобраться, влияет ли семейное положение и количество детей клиента на факт погашения кредита в срок. Входные данные от банка — статистика о платёжеспособности клиентов.\n",
    "\n",
    "Результаты исследования будут учтены при построении модели **кредитного скоринга** — специальной системы, которая оценивает способность потенциального заёмщика вернуть кредит банку."
   ]
  },
  {
   "cell_type": "markdown",
   "metadata": {},
   "source": [
    "### Шаг 1. Откройте файл с данными и изучите общую информацию. "
   ]
  },
  {
   "cell_type": "code",
   "execution_count": 1,
   "metadata": {},
   "outputs": [
    {
     "name": "stdout",
     "output_type": "stream",
     "text": [
      "<class 'pandas.core.frame.DataFrame'>\n",
      "RangeIndex: 21525 entries, 0 to 21524\n",
      "Data columns (total 12 columns):\n",
      " #   Column            Non-Null Count  Dtype  \n",
      "---  ------            --------------  -----  \n",
      " 0   children          21525 non-null  int64  \n",
      " 1   days_employed     19351 non-null  float64\n",
      " 2   dob_years         21525 non-null  int64  \n",
      " 3   education         21525 non-null  object \n",
      " 4   education_id      21525 non-null  int64  \n",
      " 5   family_status     21525 non-null  object \n",
      " 6   family_status_id  21525 non-null  int64  \n",
      " 7   gender            21525 non-null  object \n",
      " 8   income_type       21525 non-null  object \n",
      " 9   debt              21525 non-null  int64  \n",
      " 10  total_income      19351 non-null  float64\n",
      " 11  purpose           21525 non-null  object \n",
      "dtypes: float64(2), int64(5), object(5)\n",
      "memory usage: 2.0+ MB\n",
      "None\n"
     ]
    },
    {
     "data": {
      "text/html": [
       "<div>\n",
       "<style scoped>\n",
       "    .dataframe tbody tr th:only-of-type {\n",
       "        vertical-align: middle;\n",
       "    }\n",
       "\n",
       "    .dataframe tbody tr th {\n",
       "        vertical-align: top;\n",
       "    }\n",
       "\n",
       "    .dataframe thead th {\n",
       "        text-align: right;\n",
       "    }\n",
       "</style>\n",
       "<table border=\"1\" class=\"dataframe\">\n",
       "  <thead>\n",
       "    <tr style=\"text-align: right;\">\n",
       "      <th></th>\n",
       "      <th>children</th>\n",
       "      <th>days_employed</th>\n",
       "      <th>dob_years</th>\n",
       "      <th>education</th>\n",
       "      <th>education_id</th>\n",
       "      <th>family_status</th>\n",
       "      <th>family_status_id</th>\n",
       "      <th>gender</th>\n",
       "      <th>income_type</th>\n",
       "      <th>debt</th>\n",
       "      <th>total_income</th>\n",
       "      <th>purpose</th>\n",
       "    </tr>\n",
       "  </thead>\n",
       "  <tbody>\n",
       "    <tr>\n",
       "      <th>0</th>\n",
       "      <td>1</td>\n",
       "      <td>-8437.673028</td>\n",
       "      <td>42</td>\n",
       "      <td>высшее</td>\n",
       "      <td>0</td>\n",
       "      <td>женат / замужем</td>\n",
       "      <td>0</td>\n",
       "      <td>F</td>\n",
       "      <td>сотрудник</td>\n",
       "      <td>0</td>\n",
       "      <td>253875.639453</td>\n",
       "      <td>покупка жилья</td>\n",
       "    </tr>\n",
       "    <tr>\n",
       "      <th>1</th>\n",
       "      <td>1</td>\n",
       "      <td>-4024.803754</td>\n",
       "      <td>36</td>\n",
       "      <td>среднее</td>\n",
       "      <td>1</td>\n",
       "      <td>женат / замужем</td>\n",
       "      <td>0</td>\n",
       "      <td>F</td>\n",
       "      <td>сотрудник</td>\n",
       "      <td>0</td>\n",
       "      <td>112080.014102</td>\n",
       "      <td>приобретение автомобиля</td>\n",
       "    </tr>\n",
       "    <tr>\n",
       "      <th>2</th>\n",
       "      <td>0</td>\n",
       "      <td>-5623.422610</td>\n",
       "      <td>33</td>\n",
       "      <td>Среднее</td>\n",
       "      <td>1</td>\n",
       "      <td>женат / замужем</td>\n",
       "      <td>0</td>\n",
       "      <td>M</td>\n",
       "      <td>сотрудник</td>\n",
       "      <td>0</td>\n",
       "      <td>145885.952297</td>\n",
       "      <td>покупка жилья</td>\n",
       "    </tr>\n",
       "    <tr>\n",
       "      <th>3</th>\n",
       "      <td>3</td>\n",
       "      <td>-4124.747207</td>\n",
       "      <td>32</td>\n",
       "      <td>среднее</td>\n",
       "      <td>1</td>\n",
       "      <td>женат / замужем</td>\n",
       "      <td>0</td>\n",
       "      <td>M</td>\n",
       "      <td>сотрудник</td>\n",
       "      <td>0</td>\n",
       "      <td>267628.550329</td>\n",
       "      <td>дополнительное образование</td>\n",
       "    </tr>\n",
       "    <tr>\n",
       "      <th>4</th>\n",
       "      <td>0</td>\n",
       "      <td>340266.072047</td>\n",
       "      <td>53</td>\n",
       "      <td>среднее</td>\n",
       "      <td>1</td>\n",
       "      <td>гражданский брак</td>\n",
       "      <td>1</td>\n",
       "      <td>F</td>\n",
       "      <td>пенсионер</td>\n",
       "      <td>0</td>\n",
       "      <td>158616.077870</td>\n",
       "      <td>сыграть свадьбу</td>\n",
       "    </tr>\n",
       "  </tbody>\n",
       "</table>\n",
       "</div>"
      ],
      "text/plain": [
       "   children  days_employed  dob_years education  education_id  \\\n",
       "0         1   -8437.673028         42    высшее             0   \n",
       "1         1   -4024.803754         36   среднее             1   \n",
       "2         0   -5623.422610         33   Среднее             1   \n",
       "3         3   -4124.747207         32   среднее             1   \n",
       "4         0  340266.072047         53   среднее             1   \n",
       "\n",
       "      family_status  family_status_id gender income_type  debt   total_income  \\\n",
       "0   женат / замужем                 0      F   сотрудник     0  253875.639453   \n",
       "1   женат / замужем                 0      F   сотрудник     0  112080.014102   \n",
       "2   женат / замужем                 0      M   сотрудник     0  145885.952297   \n",
       "3   женат / замужем                 0      M   сотрудник     0  267628.550329   \n",
       "4  гражданский брак                 1      F   пенсионер     0  158616.077870   \n",
       "\n",
       "                      purpose  \n",
       "0               покупка жилья  \n",
       "1     приобретение автомобиля  \n",
       "2               покупка жилья  \n",
       "3  дополнительное образование  \n",
       "4             сыграть свадьбу  "
      ]
     },
     "metadata": {},
     "output_type": "display_data"
    }
   ],
   "source": [
    "import pandas as pd\n",
    "from pymystem3 import Mystem\n",
    "from IPython.display import display\n",
    "\n",
    "data = pd.read_csv('data.csv')\n",
    "print(data.info())\n",
    "display(data.head())\n",
    "\n"
   ]
  },
  {
   "cell_type": "markdown",
   "metadata": {},
   "source": [
    "### Вывод"
   ]
  },
  {
   "cell_type": "markdown",
   "metadata": {},
   "source": [
    "- children - 47 человек указали по -(минус)1 ребенку, исправим на 1, еще 76 чел. указали по 20 детей, что вызывает сомнения\n",
    "- days_employed - отрицательные значения в колонке, пропущенные значения заменим на 0, т к эта колонка не участвует в анализе\n",
    "- dob_years - 101 чел. указали, что им по 0 лет\n",
    "- education - разный регистр, приведем к нижнему регистру для поиска дубликатов \n",
    "- family_status - разный регистр, приведем к нижнему регистру для поиска дубликатов \n",
    "- gender - 1 чел. указал XNA\n",
    "- total_income - пропущены значения, заменим на значение медианы"
   ]
  },
  {
   "cell_type": "markdown",
   "metadata": {},
   "source": [
    "### Шаг 2. Предобработка данных"
   ]
  },
  {
   "cell_type": "markdown",
   "metadata": {},
   "source": [
    "### Обработка пропусков"
   ]
  },
  {
   "cell_type": "code",
   "execution_count": 2,
   "metadata": {},
   "outputs": [
    {
     "data": {
      "text/plain": [
       "children            0\n",
       "days_employed       0\n",
       "dob_years           0\n",
       "education           0\n",
       "education_id        0\n",
       "family_status       0\n",
       "family_status_id    0\n",
       "gender              0\n",
       "income_type         0\n",
       "debt                0\n",
       "total_income        0\n",
       "purpose             0\n",
       "dtype: int64"
      ]
     },
     "execution_count": 2,
     "metadata": {},
     "output_type": "execute_result"
    }
   ],
   "source": [
    "data.isnull().sum()\n",
    "\n",
    "# отрицательное кол-во детей заменили на положительное число\n",
    "data['children'] = data['children'].replace(-1, 1)\n",
    "\n",
    "# пропущенные значения заменим на 0 в таблице 'days_employed'\n",
    "data['days_employed'] = data['days_employed'].fillna(0)\n",
    "\n",
    "# переведем все в нижний регистр в таблице 'education'\n",
    "data['education'] = data['education'].str.lower()\n",
    "\n",
    "# переведем все в нижний регистр в таблице 'family_status'\n",
    "data['family_status'] = data['family_status'].str.lower()\n",
    "\n",
    "# рассчитаем значение медианы и заменим пропущениые значения этим числом\n",
    "median_total_income = data['total_income'].median()\n",
    "data['total_income'] = data['total_income'].fillna(median_total_income)\n",
    "\n",
    "# проверим на кол-во пропущенных значений\n",
    "data.isnull().sum()\n",
    "\n"
   ]
  },
  {
   "cell_type": "markdown",
   "metadata": {},
   "source": [
    "Методом isnull() определяем пропущенные значения, а потом для days_employed - значения заменим на 0, тк эта колонка не участвует в анализе,а для total_income - заменим на значение медианы. Причиной пропусков может быть сокрытие информации или потеря части данных."
   ]
  },
  {
   "cell_type": "markdown",
   "metadata": {},
   "source": [
    "### Замена типа данных"
   ]
  },
  {
   "cell_type": "code",
   "execution_count": 3,
   "metadata": {},
   "outputs": [
    {
     "name": "stdout",
     "output_type": "stream",
     "text": [
      "<class 'pandas.core.frame.DataFrame'>\n",
      "RangeIndex: 21525 entries, 0 to 21524\n",
      "Data columns (total 12 columns):\n",
      " #   Column            Non-Null Count  Dtype \n",
      "---  ------            --------------  ----- \n",
      " 0   children          21525 non-null  int64 \n",
      " 1   days_employed     21525 non-null  int32 \n",
      " 2   dob_years         21525 non-null  int64 \n",
      " 3   education         21525 non-null  object\n",
      " 4   education_id      21525 non-null  int64 \n",
      " 5   family_status     21525 non-null  object\n",
      " 6   family_status_id  21525 non-null  int64 \n",
      " 7   gender            21525 non-null  object\n",
      " 8   income_type       21525 non-null  object\n",
      " 9   debt              21525 non-null  int64 \n",
      " 10  total_income      21525 non-null  int32 \n",
      " 11  purpose           21525 non-null  object\n",
      "dtypes: int32(2), int64(5), object(5)\n",
      "memory usage: 1.8+ MB\n"
     ]
    }
   ],
   "source": [
    "# заменим вещественные числа в total_income и days_employed на целые числа\n",
    "data['total_income'] = data['total_income'].astype('int')\n",
    "data['days_employed'] = data['days_employed'].astype('int')\n",
    "\n",
    "# проверка\n",
    "data.info()\n",
    "#display(data.head())\n"
   ]
  },
  {
   "cell_type": "markdown",
   "metadata": {},
   "source": [
    "### Вывод"
   ]
  },
  {
   "cell_type": "markdown",
   "metadata": {},
   "source": [
    "используем метод astype(), т к он позволяет перевести данные в необходиммый для нас тип\n",
    "\n",
    "п.с. возможно необходимо перевести стаж в годы и избавится от отрицательных значений, для простоты восприятия, но эта колонка не участвует в анализе поэтому, наверное, в этом нет необходимости"
   ]
  },
  {
   "cell_type": "markdown",
   "metadata": {},
   "source": [
    "### Обработка дубликатов"
   ]
  },
  {
   "cell_type": "code",
   "execution_count": 4,
   "metadata": {},
   "outputs": [
    {
     "data": {
      "text/plain": [
       "0"
      ]
     },
     "execution_count": 4,
     "metadata": {},
     "output_type": "execute_result"
    }
   ],
   "source": [
    "# поиск кол-ва дубликатов\n",
    "data.duplicated().sum()\n",
    "\n",
    "# удаление дубликатов\n",
    "data = data.drop_duplicates().reset_index(drop=True)\n",
    "\n",
    "# проверка\n",
    "data.duplicated().sum()\n",
    "\n"
   ]
  },
  {
   "cell_type": "markdown",
   "metadata": {},
   "source": [
    "### Вывод"
   ]
  },
  {
   "cell_type": "markdown",
   "metadata": {},
   "source": [
    "Использовался метод duplicated для поиска дубликатов, а для удаления drop_duplicates(). В представленной таблицы нет персональных данных(ФИО, например) по которым можно было бы найти дубликаты при ручном поиске. Возможно, дубликаты появились при обращении в разные отделения банка для офрмления кредита."
   ]
  },
  {
   "cell_type": "markdown",
   "metadata": {},
   "source": [
    "### Лемматизация"
   ]
  },
  {
   "cell_type": "code",
   "execution_count": null,
   "metadata": {},
   "outputs": [
    {
     "name": "stdout",
     "output_type": "stream",
     "text": [
      "['покупка жилья' 'приобретение автомобиля' 'дополнительное образование'\n",
      " 'сыграть свадьбу' 'операции с жильем' 'образование'\n",
      " 'на проведение свадьбы' 'покупка жилья для семьи' 'покупка недвижимости'\n",
      " 'покупка коммерческой недвижимости' 'покупка жилой недвижимости'\n",
      " 'строительство собственной недвижимости' 'недвижимость'\n",
      " 'строительство недвижимости' 'на покупку подержанного автомобиля'\n",
      " 'на покупку своего автомобиля' 'операции с коммерческой недвижимостью'\n",
      " 'строительство жилой недвижимости' 'жилье'\n",
      " 'операции со своей недвижимостью' 'автомобили' 'заняться образованием'\n",
      " 'сделка с подержанным автомобилем' 'получение образования' 'автомобиль'\n",
      " 'свадьба' 'получение дополнительного образования' 'покупка своего жилья'\n",
      " 'операции с недвижимостью' 'получение высшего образования'\n",
      " 'свой автомобиль' 'сделка с автомобилем' 'профильное образование'\n",
      " 'высшее образование' 'покупка жилья для сдачи' 'на покупку автомобиля'\n",
      " 'ремонт жилью' 'заняться высшим образованием']\n"
     ]
    }
   ],
   "source": [
    "m = Mystem()\n",
    "# находим уникальные значения в столбце \n",
    "lem_purpose = data['purpose'].unique()\n",
    "\n",
    "# проверка и определение значений, по которым в дальнейшем будем категоризировать данные\n",
    "print(lem_purpose)\n",
    "\n",
    "# автомобиль, недвижимость/жилье, свадьба, образование\n",
    "\n",
    "# в функции пропускаем весь столбец через лемматизацию и через цикл присваиваем новые значения в новом столбце\n",
    "def lemmas_purpose(purpose):\n",
    "    lemma = m.lemmatize(purpose)\n",
    "    for value in lemma:\n",
    "        if 'автомоб' in value:\n",
    "            return 'автомобиль'\n",
    "        elif 'образов' in value:\n",
    "            return 'образование'\n",
    "        elif 'свадьб' in value:\n",
    "            return 'свадьба'\n",
    "        elif 'жил' in value or 'недвиж' in value:\n",
    "            return 'недвижимость'\n",
    "\n",
    "    \n",
    "data['lemmas_purpose'] = data['purpose'].apply(lemmas_purpose)\n",
    "\n",
    "# проверка\n",
    "data['lemmas_purpose'].value_counts()"
   ]
  },
  {
   "cell_type": "markdown",
   "metadata": {},
   "source": [
    "### Вывод"
   ]
  },
  {
   "cell_type": "markdown",
   "metadata": {},
   "source": [
    "сначала нашли уникальные значения в солбце 'purpose', распечатали и определелили, что основными категориями могут быть: автомобиль, недвижимость/жилье, свадьба и образование. Далее в функции пропускаем весь столбец через лемматизацию и через цикл находим соответствующие значения и присваиваем новые значения в новом столбце.\n"
   ]
  },
  {
   "cell_type": "markdown",
   "metadata": {},
   "source": [
    "### Категоризация данных"
   ]
  },
  {
   "cell_type": "code",
   "execution_count": 7,
   "metadata": {},
   "outputs": [
    {
     "name": "stdout",
     "output_type": "stream",
     "text": [
      "очень высокий    6422\n",
      "высокий          5927\n",
      "средний          4642\n",
      "низкий           4463\n",
      "Name: salary, dtype: int64\n"
     ]
    }
   ],
   "source": [
    "# категоризация по уровню дохода\n",
    "def salary(payday):\n",
    "    if payday <= 100000:\n",
    "        return 'низкий'\n",
    "    elif 100000 < payday <= 140000:\n",
    "        return 'средний'\n",
    "    elif 140000 < payday <= 180000:\n",
    "        return 'высокий'\n",
    "    elif  payday > 180000:\n",
    "        return 'очень высокий'\n",
    "    \n",
    "        \n",
    "data['salary'] = data['total_income'].apply(salary)\n",
    "\n",
    "#проверка\n",
    "display(data['salary'].value_counts())\n"
   ]
  },
  {
   "cell_type": "markdown",
   "metadata": {},
   "source": [
    "### Вывод"
   ]
  },
  {
   "cell_type": "markdown",
   "metadata": {},
   "source": [
    "создали категоризацию по уровню дохода, а также выше была создана по целям кредита."
   ]
  },
  {
   "cell_type": "markdown",
   "metadata": {},
   "source": [
    "### Шаг 3. Ответьте на вопросы"
   ]
  },
  {
   "cell_type": "markdown",
   "metadata": {},
   "source": [
    "- Есть ли зависимость между наличием детей и возвратом кредита в срок?"
   ]
  },
  {
   "cell_type": "code",
   "execution_count": 8,
   "metadata": {},
   "outputs": [
    {
     "name": "stdout",
     "output_type": "stream",
     "text": [
      "Процент семей с детьми, которые не имеют задолжностей по кредиту 90.8%\n",
      "Процент семей без детей, которые не имеют задолжностей по кредиту 92.5%\n",
      "\n"
     ]
    },
    {
     "data": {
      "text/html": [
       "<div>\n",
       "<style scoped>\n",
       "    .dataframe tbody tr th:only-of-type {\n",
       "        vertical-align: middle;\n",
       "    }\n",
       "\n",
       "    .dataframe tbody tr th {\n",
       "        vertical-align: top;\n",
       "    }\n",
       "\n",
       "    .dataframe thead th {\n",
       "        text-align: right;\n",
       "    }\n",
       "</style>\n",
       "<table border=\"1\" class=\"dataframe\">\n",
       "  <thead>\n",
       "    <tr style=\"text-align: right;\">\n",
       "      <th>debt</th>\n",
       "      <th>Нет задолжности</th>\n",
       "      <th>Есть задолжность</th>\n",
       "      <th>Доля</th>\n",
       "      <th>В процентах</th>\n",
       "    </tr>\n",
       "    <tr>\n",
       "      <th>children</th>\n",
       "      <th></th>\n",
       "      <th></th>\n",
       "      <th></th>\n",
       "      <th></th>\n",
       "    </tr>\n",
       "  </thead>\n",
       "  <tbody>\n",
       "    <tr>\n",
       "      <td>Нет детей</td>\n",
       "      <td>13028</td>\n",
       "      <td>1063</td>\n",
       "      <td>0.924562</td>\n",
       "      <td>92.456178</td>\n",
       "    </tr>\n",
       "    <tr>\n",
       "      <td>1 ребенок</td>\n",
       "      <td>4410</td>\n",
       "      <td>445</td>\n",
       "      <td>0.908342</td>\n",
       "      <td>90.834192</td>\n",
       "    </tr>\n",
       "    <tr>\n",
       "      <td>2 ребенка</td>\n",
       "      <td>1858</td>\n",
       "      <td>194</td>\n",
       "      <td>0.905458</td>\n",
       "      <td>90.545809</td>\n",
       "    </tr>\n",
       "    <tr>\n",
       "      <td>3 ребенка</td>\n",
       "      <td>303</td>\n",
       "      <td>27</td>\n",
       "      <td>0.918182</td>\n",
       "      <td>91.818182</td>\n",
       "    </tr>\n",
       "    <tr>\n",
       "      <td>4 ребенка</td>\n",
       "      <td>37</td>\n",
       "      <td>4</td>\n",
       "      <td>0.902439</td>\n",
       "      <td>90.243902</td>\n",
       "    </tr>\n",
       "    <tr>\n",
       "      <td>5 детей</td>\n",
       "      <td>9</td>\n",
       "      <td>0</td>\n",
       "      <td>1.000000</td>\n",
       "      <td>100.000000</td>\n",
       "    </tr>\n",
       "    <tr>\n",
       "      <td>20 детей</td>\n",
       "      <td>68</td>\n",
       "      <td>8</td>\n",
       "      <td>0.894737</td>\n",
       "      <td>89.473684</td>\n",
       "    </tr>\n",
       "  </tbody>\n",
       "</table>\n",
       "</div>"
      ],
      "text/plain": [
       "debt       Нет задолжности  Есть задолжность      Доля  В процентах\n",
       "children                                                           \n",
       "Нет детей            13028              1063  0.924562    92.456178\n",
       "1 ребенок             4410               445  0.908342    90.834192\n",
       "2 ребенка             1858               194  0.905458    90.545809\n",
       "3 ребенка              303                27  0.918182    91.818182\n",
       "4 ребенка               37                 4  0.902439    90.243902\n",
       "5 детей                  9                 0  1.000000   100.000000\n",
       "20 детей                68                 8  0.894737    89.473684"
      ]
     },
     "metadata": {},
     "output_type": "display_data"
    }
   ],
   "source": [
    "# кол-во семей с детьми\n",
    "parent_child = data[data['children'] >= 1]['children'].count()\n",
    "\n",
    "# кол-во семей без детей\n",
    "parent_not_child = data[data['children'] == 0]['children'].count()\n",
    "\n",
    "# кол-во семей с детьми, которые не имеют задолжности\n",
    "parent_child_not_debt = data[(data['debt'] == 0) & (data['children'] >= 1)]['children'].count()\n",
    "\n",
    "# кол-во семей без детей, которые не имеют задолжности\n",
    "parent_not_child_not_debt = data[(data['debt'] == 0) & (data['children'] == 0)]['children'].count()\n",
    "\n",
    "#найдем процентное соотношение \n",
    "interest_child = parent_child_not_debt / parent_child\n",
    "interest_not_child = parent_not_child_not_debt / parent_not_child\n",
    "\n",
    "print('Процент семей с детьми, которые не имеют задолжностей по кредиту {:.1%}'.format(interest_child))\n",
    "print('Процент семей без детей, которые не имеют задолжностей по кредиту {:.1%}'.format(interest_not_child))\n",
    "print()\n",
    "\n",
    "#методом pivot_table создадим сводную таблицу для наглядного представления результатов\n",
    "pivot_child = data.pivot_table(index=['children'], columns='debt', values='education', aggfunc='count')\n",
    "# обработаем полученные результаты\n",
    "pivot_child[0] = pivot_child[0].astype('int')\n",
    "pivot_child[1] = pivot_child[1].fillna(0)\n",
    "pivot_child[1] = pivot_child[1].astype('int')\n",
    "# посчитаем долю людей с разным кол-вом детей, которые не имеют задолжности\n",
    "pivot_child['interest_child'] = pivot_child[0] / (pivot_child[0] + pivot_child[1])\n",
    "# представим в процентах\n",
    "pivot_child['percent'] = pivot_child['interest_child'] * 100\n",
    "# поменяем название столбцов\n",
    "#pivot_child.set_axis(['нет задолжн.','есть задолжн.','доля', 'проценты'], axis = 'columns', inplace = True) \n",
    "pivot_child.rename(index = {0 : \"Нет детей\", 1 : \"1 ребенок\", 2 : \"2 ребенка\", 3 :\"3 ребенка\", \n",
    "                            4 : \"4 ребенка\", 5 :\"5 детей\", 20 : \"20 детей\"},\n",
    "                   columns = { 0 : \"Нет задолжности\", 1 :\"Есть задолжность\", \"interest_child\": \"Доля\", \n",
    "                              \"percent\": \"В процентах\"}, inplace = True)\n",
    "display(pivot_child)\n"
   ]
  },
  {
   "cell_type": "markdown",
   "metadata": {},
   "source": [
    "### Вывод"
   ]
  },
  {
   "cell_type": "markdown",
   "metadata": {},
   "source": [
    "В семьях без детей процент вовремя выплаченных кредитов больше на 1,7%, чем в семьях имеющих детей. Возможно, это связано с достаточно дорогим содержанием детей, что приводит к чуть большему кол-ву задолжностей по кредиту, чем в семьях без детей.\n",
    "В целом в семьях с разным кол-вом детей процент вовремя выплаченных кредитов ниже, чем в семьях без детей(исключение семьи, где 5 детей)."
   ]
  },
  {
   "cell_type": "markdown",
   "metadata": {},
   "source": [
    "- Есть ли зависимость между семейным положением и возвратом кредита в срок?"
   ]
  },
  {
   "cell_type": "code",
   "execution_count": 9,
   "metadata": {},
   "outputs": [
    {
     "data": {
      "text/html": [
       "<div>\n",
       "<style scoped>\n",
       "    .dataframe tbody tr th:only-of-type {\n",
       "        vertical-align: middle;\n",
       "    }\n",
       "\n",
       "    .dataframe tbody tr th {\n",
       "        vertical-align: top;\n",
       "    }\n",
       "\n",
       "    .dataframe thead th {\n",
       "        text-align: right;\n",
       "    }\n",
       "</style>\n",
       "<table border=\"1\" class=\"dataframe\">\n",
       "  <thead>\n",
       "    <tr style=\"text-align: right;\">\n",
       "      <th>debt</th>\n",
       "      <th>Нет задолжности</th>\n",
       "      <th>Есть задолжность</th>\n",
       "      <th>Доля</th>\n",
       "      <th>В процентах</th>\n",
       "    </tr>\n",
       "    <tr>\n",
       "      <th>family_status</th>\n",
       "      <th></th>\n",
       "      <th></th>\n",
       "      <th></th>\n",
       "      <th></th>\n",
       "    </tr>\n",
       "  </thead>\n",
       "  <tbody>\n",
       "    <tr>\n",
       "      <td>в разводе</td>\n",
       "      <td>1110</td>\n",
       "      <td>85</td>\n",
       "      <td>0.928870</td>\n",
       "      <td>92.887029</td>\n",
       "    </tr>\n",
       "    <tr>\n",
       "      <td>вдовец / вдова</td>\n",
       "      <td>896</td>\n",
       "      <td>63</td>\n",
       "      <td>0.934307</td>\n",
       "      <td>93.430657</td>\n",
       "    </tr>\n",
       "    <tr>\n",
       "      <td>гражданский брак</td>\n",
       "      <td>3763</td>\n",
       "      <td>388</td>\n",
       "      <td>0.906529</td>\n",
       "      <td>90.652855</td>\n",
       "    </tr>\n",
       "    <tr>\n",
       "      <td>женат / замужем</td>\n",
       "      <td>11408</td>\n",
       "      <td>931</td>\n",
       "      <td>0.924548</td>\n",
       "      <td>92.454818</td>\n",
       "    </tr>\n",
       "    <tr>\n",
       "      <td>не женат / не замужем</td>\n",
       "      <td>2536</td>\n",
       "      <td>274</td>\n",
       "      <td>0.902491</td>\n",
       "      <td>90.249110</td>\n",
       "    </tr>\n",
       "  </tbody>\n",
       "</table>\n",
       "</div>"
      ],
      "text/plain": [
       "debt                   Нет задолжности  Есть задолжность      Доля  \\\n",
       "family_status                                                        \n",
       "в разводе                         1110                85  0.928870   \n",
       "вдовец / вдова                     896                63  0.934307   \n",
       "гражданский брак                  3763               388  0.906529   \n",
       "женат / замужем                  11408               931  0.924548   \n",
       "не женат / не замужем             2536               274  0.902491   \n",
       "\n",
       "debt                   В процентах  \n",
       "family_status                       \n",
       "в разводе                92.887029  \n",
       "вдовец / вдова           93.430657  \n",
       "гражданский брак         90.652855  \n",
       "женат / замужем          92.454818  \n",
       "не женат / не замужем    90.249110  "
      ]
     },
     "metadata": {},
     "output_type": "display_data"
    }
   ],
   "source": [
    "#методом pivot_table создадим сводную таблицу для наглядного представления результатов\n",
    "pivot_family_status = data.pivot_table(index=['family_status'], columns='debt', values = 'gender', aggfunc='count')\n",
    "\n",
    "# посчитаем долю людей с разным семейным положением, которые не имеют задолжности\n",
    "pivot_family_status['family_stat'] = pivot_family_status[0] / (pivot_family_status[0] + pivot_family_status[1])\n",
    "\n",
    "# представим в процентах\n",
    "pivot_family_status['percent'] = pivot_family_status['family_stat'] * 100\n",
    "\n",
    "# поменяем название столбцов\n",
    "# pivot_family_status.set_axis(['нет задолжн.','есть задолжн.','доля', 'проценты'], axis = 'columns', inplace = True) \n",
    "pivot_family_status.rename(columns = {0 : \"Нет задолжности\", 1 :\"Есть задолжность\", \"family_stat\": \"Доля\", \n",
    "                              \"percent\": \"В процентах\"}, inplace = True)\n",
    "\n",
    "\n",
    "display(pivot_family_status)\n"
   ]
  },
  {
   "cell_type": "markdown",
   "metadata": {},
   "source": [
    "### Вывод"
   ]
  },
  {
   "cell_type": "markdown",
   "metadata": {},
   "source": [
    "люди побывавшие в браке(не гражданском) или находящиеся сейчас в браке, имеют задолжности реже на 2-3%."
   ]
  },
  {
   "cell_type": "markdown",
   "metadata": {},
   "source": [
    "- Есть ли зависимость между уровнем дохода и возвратом кредита в срок?"
   ]
  },
  {
   "cell_type": "code",
   "execution_count": 47,
   "metadata": {},
   "outputs": [
    {
     "data": {
      "text/html": [
       "<div>\n",
       "<style scoped>\n",
       "    .dataframe tbody tr th:only-of-type {\n",
       "        vertical-align: middle;\n",
       "    }\n",
       "\n",
       "    .dataframe tbody tr th {\n",
       "        vertical-align: top;\n",
       "    }\n",
       "\n",
       "    .dataframe thead th {\n",
       "        text-align: right;\n",
       "    }\n",
       "</style>\n",
       "<table border=\"1\" class=\"dataframe\">\n",
       "  <thead>\n",
       "    <tr style=\"text-align: right;\">\n",
       "      <th>debt</th>\n",
       "      <th>Нет задолжности</th>\n",
       "      <th>Есть задолжность</th>\n",
       "      <th>Доля</th>\n",
       "      <th>В процентах</th>\n",
       "    </tr>\n",
       "    <tr>\n",
       "      <th>salary</th>\n",
       "      <th></th>\n",
       "      <th></th>\n",
       "      <th></th>\n",
       "      <th></th>\n",
       "    </tr>\n",
       "  </thead>\n",
       "  <tbody>\n",
       "    <tr>\n",
       "      <td>высокий</td>\n",
       "      <td>5410</td>\n",
       "      <td>517</td>\n",
       "      <td>0.912772</td>\n",
       "      <td>91.277206</td>\n",
       "    </tr>\n",
       "    <tr>\n",
       "      <td>низкий</td>\n",
       "      <td>4109</td>\n",
       "      <td>354</td>\n",
       "      <td>0.920681</td>\n",
       "      <td>92.068116</td>\n",
       "    </tr>\n",
       "    <tr>\n",
       "      <td>очень высокий</td>\n",
       "      <td>5944</td>\n",
       "      <td>478</td>\n",
       "      <td>0.925568</td>\n",
       "      <td>92.556836</td>\n",
       "    </tr>\n",
       "    <tr>\n",
       "      <td>средний</td>\n",
       "      <td>4250</td>\n",
       "      <td>392</td>\n",
       "      <td>0.915554</td>\n",
       "      <td>91.555364</td>\n",
       "    </tr>\n",
       "  </tbody>\n",
       "</table>\n",
       "</div>"
      ],
      "text/plain": [
       "debt           Нет задолжности  Есть задолжность      Доля  В процентах\n",
       "salary                                                                 \n",
       "высокий                   5410               517  0.912772    91.277206\n",
       "низкий                    4109               354  0.920681    92.068116\n",
       "очень высокий             5944               478  0.925568    92.556836\n",
       "средний                   4250               392  0.915554    91.555364"
      ]
     },
     "metadata": {},
     "output_type": "display_data"
    }
   ],
   "source": [
    "#методом pivot_table создадим сводную таблицу для наглядного представления результатов\n",
    "pivot_salary = data.pivot_table(index=['salary'], columns='debt', values = 'gender', aggfunc='count')\n",
    "\n",
    "# посчитаем долю людей с разными доходами, которые не имеют задолжности\n",
    "pivot_salary['salary_level'] = pivot_salary[0] / (pivot_salary[0] + pivot_salary[1])\n",
    "\n",
    "# представим в процентах\n",
    "pivot_salary['percent'] = pivot_salary['salary_level'] * 100\n",
    "\n",
    "# поменяем название столбцов\n",
    "# pivot_salary.set_axis(['нет задолжн.','есть задолжн.','доля', 'проценты'], axis = 'columns', inplace = True) \n",
    "pivot_salary.rename(columns = {0 : \"Нет задолжности\", 1 :\"Есть задолжность\", \"salary_level\": \"Доля\", \n",
    "                              \"percent\": \"В процентах\"}, inplace = True)\n",
    "\n",
    "\n",
    "display(pivot_salary)"
   ]
  },
  {
   "cell_type": "markdown",
   "metadata": {},
   "source": [
    "### Вывод"
   ]
  },
  {
   "cell_type": "markdown",
   "metadata": {},
   "source": [
    "можно сказать, что уровень дохода, практически не влияет на задолжность по кредиту, все результаты с разностью чуть более 1%."
   ]
  },
  {
   "cell_type": "markdown",
   "metadata": {},
   "source": [
    "- Как разные цели кредита влияют на его возврат в срок?"
   ]
  },
  {
   "cell_type": "code",
   "execution_count": 1,
   "metadata": {},
   "outputs": [
    {
     "ename": "NameError",
     "evalue": "name 'data' is not defined",
     "output_type": "error",
     "traceback": [
      "\u001b[1;31m---------------------------------------------------------------------------\u001b[0m",
      "\u001b[1;31mNameError\u001b[0m                                 Traceback (most recent call last)",
      "\u001b[1;32m<ipython-input-1-c685c00860f5>\u001b[0m in \u001b[0;36m<module>\u001b[1;34m\u001b[0m\n\u001b[0;32m      1\u001b[0m \u001b[1;31m#методом pivot_table создадим сводную таблицу для наглядного представления результатов\u001b[0m\u001b[1;33m\u001b[0m\u001b[1;33m\u001b[0m\u001b[1;33m\u001b[0m\u001b[0m\n\u001b[1;32m----> 2\u001b[1;33m \u001b[0mpivot_lemmas_purpose\u001b[0m \u001b[1;33m=\u001b[0m \u001b[0mdata\u001b[0m\u001b[1;33m.\u001b[0m\u001b[0mpivot_table\u001b[0m\u001b[1;33m(\u001b[0m\u001b[0mindex\u001b[0m\u001b[1;33m=\u001b[0m\u001b[1;33m[\u001b[0m\u001b[1;34m'lemmas_purpose'\u001b[0m\u001b[1;33m]\u001b[0m\u001b[1;33m,\u001b[0m \u001b[0mcolumns\u001b[0m\u001b[1;33m=\u001b[0m\u001b[1;34m'debt'\u001b[0m\u001b[1;33m,\u001b[0m \u001b[0mvalues\u001b[0m \u001b[1;33m=\u001b[0m \u001b[1;34m'gender'\u001b[0m\u001b[1;33m,\u001b[0m \u001b[0maggfunc\u001b[0m\u001b[1;33m=\u001b[0m\u001b[1;34m'count'\u001b[0m\u001b[1;33m)\u001b[0m\u001b[1;33m\u001b[0m\u001b[1;33m\u001b[0m\u001b[0m\n\u001b[0m\u001b[0;32m      3\u001b[0m \u001b[1;33m\u001b[0m\u001b[0m\n\u001b[0;32m      4\u001b[0m \u001b[1;31m# посчитаем долю людей с разными целями кредита, которые не имеют задолжности\u001b[0m\u001b[1;33m\u001b[0m\u001b[1;33m\u001b[0m\u001b[1;33m\u001b[0m\u001b[0m\n\u001b[0;32m      5\u001b[0m \u001b[0mpivot_lemmas_purpose\u001b[0m\u001b[1;33m[\u001b[0m\u001b[1;34m'purpos'\u001b[0m\u001b[1;33m]\u001b[0m \u001b[1;33m=\u001b[0m \u001b[0mpivot_lemmas_purpose\u001b[0m\u001b[1;33m[\u001b[0m\u001b[1;36m0\u001b[0m\u001b[1;33m]\u001b[0m \u001b[1;33m/\u001b[0m \u001b[1;33m(\u001b[0m\u001b[0mpivot_lemmas_purpose\u001b[0m\u001b[1;33m[\u001b[0m\u001b[1;36m0\u001b[0m\u001b[1;33m]\u001b[0m \u001b[1;33m+\u001b[0m \u001b[0mpivot_lemmas_purpose\u001b[0m\u001b[1;33m[\u001b[0m\u001b[1;36m1\u001b[0m\u001b[1;33m]\u001b[0m\u001b[1;33m)\u001b[0m\u001b[1;33m\u001b[0m\u001b[1;33m\u001b[0m\u001b[0m\n",
      "\u001b[1;31mNameError\u001b[0m: name 'data' is not defined"
     ]
    }
   ],
   "source": [
    "#методом pivot_table создадим сводную таблицу для наглядного представления результатов\n",
    "pivot_lemmas_purpose = data.pivot_table(index=['lemmas_purpose'], columns='debt', values = 'gender', aggfunc='count')\n",
    "\n",
    "# посчитаем долю людей с разными целями кредита, которые не имеют задолжности\n",
    "pivot_lemmas_purpose['purpos'] = pivot_lemmas_purpose[0] / (pivot_lemmas_purpose[0] + pivot_lemmas_purpose[1])\n",
    "\n",
    "# представим в процентах\n",
    "pivot_lemmas_purpose['percent'] = pivot_lemmas_purpose['purpos'] * 100\n",
    "\n",
    "# поменяем название столбцов\n",
    "# pivot_lemmas_purpose.set_axis(['нет задолжн.','есть задолжн.','доля', 'проценты'], axis = 'columns', inplace = True) \n",
    "pivot_lemmas_purpose.rename(columns = {0 : \"Нет задолжности\", 1 :\"Есть задолжность\", \"purpos\": \"Доля\", \n",
    "                              \"percent\": \"В процентах\"}, inplace = True)\n",
    "\n",
    "\n",
    "display(pivot_lemmas_purpose)"
   ]
  },
  {
   "cell_type": "markdown",
   "metadata": {},
   "source": [
    "### Вывод"
   ]
  },
  {
   "cell_type": "markdown",
   "metadata": {},
   "source": [
    "меньший процент c задолжностями по кредитам для недвижимости и свадьбы можно объяснить тем, что чаще всего их берут люди(семья), в которой несколько источников доходов (работающие муж и жена, например). А автомобили и образование чаще берут люди с одним источником доходов. "
   ]
  },
  {
   "cell_type": "markdown",
   "metadata": {},
   "source": [
    "### Шаг 4. Общий вывод"
   ]
  },
  {
   "cell_type": "markdown",
   "metadata": {},
   "source": [
    "- В семьях без детей процент вовремя выплаченных кредитов больше на 1,7%, чем в семьях имеющих детей\n",
    "- люди побывавшие в браке(не гражданском) или находящиеся сейчас в браке, имеют задолжности реже на 2-3%\n",
    "- уровень дохода, практически не влияет на задолжность по кредиту, все результаты с разностью меньше 1%\n",
    "- процент c задолжностями по кредитам для недвижимости и свадьбы менеьше на 1-2%, чем на автомобили и образование\n",
    "\n",
    "Процент отданных вовремя кредитов находится в диапозоне от 90% до 93,4%(не берем 100%, где 5 детей в семье - маленькая выборка и уберем 89,4% где 20 детей, есть основания думать, что это ошибочные данные). Наиболее часто отдающие кредит люди - это люди без детей, бывшие в законном браке или состоящие на данный момент в браке и приобретающие недвежимость. При этом уровень дохода почти не влияет на задолжность."
   ]
  },
  {
   "cell_type": "markdown",
   "metadata": {},
   "source": [
    "### Чек-лист готовности проекта\n",
    "\n",
    "Поставьте 'x' в выполненных пунктах. Далее нажмите Shift+Enter."
   ]
  },
  {
   "cell_type": "markdown",
   "metadata": {},
   "source": [
    "- [x]  открыт файл;\n",
    "- [x]  файл изучен;\n",
    "- [x]  определены пропущенные значения;\n",
    "- [x]  заполнены пропущенные значения;\n",
    "- [x]  есть пояснение, какие пропущенные значения обнаружены;\n",
    "- [x]  описаны возможные причины появления пропусков в данных;\n",
    "- [x]  объяснено, по какому принципу заполнены пропуски;\n",
    "- [x]  заменен вещественный тип данных на целочисленный;\n",
    "- [x]  есть пояснение, какой метод используется для изменения типа данных и почему;\n",
    "- [x]  удалены дубликаты;\n",
    "- [x]  есть пояснение, какой метод используется для поиска и удаления дубликатов;\n",
    "- [x]  описаны возможные причины появления дубликатов в данных;\n",
    "- [x]  выделены леммы в значениях столбца с целями получения кредита;\n",
    "- [x]  описан процесс лемматизации;\n",
    "- [x]  данные категоризированы;\n",
    "- [x]  есть объяснение принципа категоризации данных;\n",
    "- [x]  есть ответ на вопрос: \"Есть ли зависимость между наличием детей и возвратом кредита в срок?\";\n",
    "- [x]  есть ответ на вопрос: \"Есть ли зависимость между семейным положением и возвратом кредита в срок?\";\n",
    "- [x]  есть ответ на вопрос: \"Есть ли зависимость между уровнем дохода и возвратом кредита в срок?\";\n",
    "- [x]  есть ответ на вопрос: \"Как разные цели кредита влияют на его возврат в срок?\";\n",
    "- [x]  в каждом этапе есть выводы;\n",
    "- [x]  есть общий вывод."
   ]
  }
 ],
 "metadata": {
  "kernelspec": {
   "display_name": "Python 3",
   "language": "python",
   "name": "python3"
  },
  "language_info": {
   "codemirror_mode": {
    "name": "ipython",
    "version": 3
   },
   "file_extension": ".py",
   "mimetype": "text/x-python",
   "name": "python",
   "nbconvert_exporter": "python",
   "pygments_lexer": "ipython3",
   "version": "3.8.5"
  },
  "toc": {
   "base_numbering": 1,
   "nav_menu": {},
   "number_sections": true,
   "sideBar": true,
   "skip_h1_title": false,
   "title_cell": "Table of Contents",
   "title_sidebar": "Contents",
   "toc_cell": false,
   "toc_position": {},
   "toc_section_display": true,
   "toc_window_display": false
  }
 },
 "nbformat": 4,
 "nbformat_minor": 2
}
